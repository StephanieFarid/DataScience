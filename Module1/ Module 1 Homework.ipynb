{
 "cells": [
  {
   "cell_type": "markdown",
   "metadata": {},
   "source": [
    "08.18.20"
   ]
  },
  {
   "cell_type": "markdown",
   "metadata": {},
   "source": [
    "1. Accept the user's first and last name and print them in reverse order with a space between them"
   ]
  },
  {
   "cell_type": "code",
   "execution_count": null,
   "metadata": {},
   "outputs": [],
   "source": [
    "firstName=input(\"First name?\")\n",
    "lastName=input (\"Last name?\")\n",
    "print (lastName, firstName)"
   ]
  },
  {
   "cell_type": "markdown",
   "metadata": {},
   "source": [
    "2. Accept an integer (n) and compute the value of n+nn+nnn"
   ]
  },
  {
   "cell_type": "code",
   "execution_count": null,
   "metadata": {},
   "outputs": [],
   "source": [
    "n = input (\"pick a number, any number\")\n",
    "n + 11*n + 111*n"
   ]
  },
  {
   "cell_type": "markdown",
   "metadata": {},
   "source": [
    "3. Ask the user \"What country are you from?\" then print the following statement: \"I have heard that [input] is a beautiful country!\""
   ]
  },
  {
   "cell_type": "code",
   "execution_count": null,
   "metadata": {},
   "outputs": [],
   "source": [
    "country = input(\"What country are you from?\")\n",
    "print (\"I have heard that \" + country + \" is a beautiful country!\")"
   ]
  },
  {
   "cell_type": "markdown",
   "metadata": {},
   "source": [
    "4. What is the output of the following Python code\n",
    "\n",
    "x = 10\n",
    "y = 50\n",
    "if (x ** 2 > 100 and y < 100):\n",
    "    print(x, y)\n",
    "    \n",
    "    Will not execute.\n",
    "    \n",
    "5. What is the output of the following addition (+) operator\n",
    "\n",
    "a = [10, 20]\n",
    "b = a\n",
    "b += [30, 40]\n",
    "print(a)\n",
    "print(b)\n",
    "\n",
    "    [10, 20, 30, 40]\n",
    "    [10, 20, 30, 40]\n",
    "\n",
    "6. What is the output of print(2%6)\n",
    "\n",
    "2\n",
    "\n",
    "7. What is the output of print(2 * 3 ** 3 * 4)\n",
    "\n",
    " 216\n",
    "\n",
    "8. What is a text editor?\n",
    "\n",
    "A computer program that edits plain text.\n",
    "\n",
    "9. What is python?\n",
    "\n",
    " A programming language\n",
    "\n",
    "10. What is a jupyter notebook and list two alternatives. \n",
    "\n",
    "An open-source web app for live code.\n",
    "    PyCharm and RStudio"
   ]
  }
 ],
 "metadata": {
  "kernelspec": {
   "display_name": "Python 3",
   "language": "python",
   "name": "python3"
  },
  "language_info": {
   "codemirror_mode": {
    "name": "ipython",
    "version": 3
   },
   "file_extension": ".py",
   "mimetype": "text/x-python",
   "name": "python",
   "nbconvert_exporter": "python",
   "pygments_lexer": "ipython3",
   "version": "3.8.3"
  }
 },
 "nbformat": 4,
 "nbformat_minor": 4
}
