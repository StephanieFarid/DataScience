{
 "cells": [
  {
   "cell_type": "markdown",
   "metadata": {},
   "source": [
    "Comments:\n",
    "  \"#\" creates a comment. This can be standalone or in-line. \n",
    "  \n",
    "  Commands do not end with ; only ends when the words end on the line. \n",
    "  However, you can make it continue on the next line by using \\ or () \n",
    "  i.e. 1+2+3+4+\\\n",
    "       5+6+7+8\n",
    "OR\n",
    "      (1+2+3+4+\n",
    "      5+6+7+8)\n",
    "      \n",
    "; can terminate a statement \n",
    "i.e. lower(); upper()\n",
    "        is the same as\n",
    "     lower()\n",
    "     upper()\n",
    "     \n",
    "White space is meaningful before lines BUT not in lines\n",
    "indentation indicates code block preceeded by \":\"\n",
    "\n",
    "Standard indentation is 4 spaces / Tab\n",
    "\n",
    "() are for grouping or calling \n",
    "\n",
    "Assigning variables \n",
    "name = value\n",
    "i.e. x = 4\n",
    "this also means that you do not need to assign a type. Names are just \"pointing to the values. \n",
    "\n",
    "Attributes .attribute\n",
    "Methods .method()\n"
   ]
  }
 ],
 "metadata": {
  "kernelspec": {
   "display_name": "Python 3",
   "language": "python",
   "name": "python3"
  },
  "language_info": {
   "codemirror_mode": {
    "name": "ipython",
    "version": 3
   },
   "file_extension": ".py",
   "mimetype": "text/x-python",
   "name": "python",
   "nbconvert_exporter": "python",
   "pygments_lexer": "ipython3",
   "version": "3.8.3"
  }
 },
 "nbformat": 4,
 "nbformat_minor": 4
}
