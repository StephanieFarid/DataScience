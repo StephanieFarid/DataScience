{
 "cells": [
  {
   "cell_type": "markdown",
   "metadata": {},
   "source": [
    "09.15.2020"
   ]
  },
  {
   "cell_type": "markdown",
   "metadata": {},
   "source": [
    "You are given two classes, Person and Student, where Person is the base class and Student is the derived class. Completed code for Person and a declaration for Student are provided for you in the editor. Observe that Student inherits all the properties of Person.\n",
    "\n",
    "Complete the Student class by writing the following:\n",
    "A Student class constructor, which has 4 parameters:\n",
    "- A string, firstName\n",
    "- A string, lastName\n",
    "- An integer, id\n",
    "An integer array (or vector) of test scores, scores\n",
    "\n",
    "A char calculate() method that calculates a Student object's average and returns the grade character representative of their calculated average:\n",
    "A | 90-100\n",
    "B | 80-89\n",
    "C | 70-79\n",
    "D | 60-69\n",
    "F | <60"
   ]
  },
  {
   "cell_type": "code",
   "execution_count": 28,
   "metadata": {},
   "outputs": [
    {
     "name": "stdout",
     "output_type": "stream",
     "text": [
      "First name: Stephanie\n",
      "Last name: Farid\n",
      "Student ID: 1\n",
      "Enter a list grades separated by space: 100 90 95\n",
      "Stephanie Farid Student ID 1, you got an A.\n"
     ]
    }
   ],
   "source": [
    "class Person:\n",
    "    \n",
    "    def __init__(self,fname,lname):\n",
    "        self.fname = fname\n",
    "        self.lname = lname\n",
    "        \n",
    "class Student(Person):\n",
    "    \n",
    "    def __init__(self, fname, lname, student_id):\n",
    "        self.id = int(student_id)\n",
    "        Person.__init__(self, fname, lname)\n",
    "        \n",
    "    def calculate(self,list):\n",
    "        points = 0\n",
    "        total = len(list)\n",
    "        \n",
    "        for num in list:\n",
    "            points = points + num\n",
    "            \n",
    "        gpa = points/total\n",
    "        \n",
    "        if gpa >= 90 and gpa <= 100:\n",
    "            print(self.fname + \" \" + self.lname + \" \" + \"Student ID \" + str(self.id) + \", you got an A.\")\n",
    "        elif gpa >= 80 and gpa <= 89:\n",
    "            print(self.fname + \" \" + self.lname + \" \" + \"Student ID \" + str(self.id) + \", you got a B.\")\n",
    "        elif gpa >= 70 and gpa <= 79:\n",
    "            print(self.fname + \" \" + self.lname + \" \" + \"Student ID \" + str(self.id) + \", you got a C.\")\n",
    "        elif gpa >= 60 and gpa <= 69:\n",
    "            print(self.fname + \" \" + self.lname + \" \" + \"Student ID \" + str(self.id) + \", you got a D.\")\n",
    "        elif gpa < 60:\n",
    "            print(self.fname + \" \" + self.lname + \" \" + \"Student ID \" + str(self.id) + \", you got an F.\")\n",
    "\n",
    "person1 = Student(str(input(\"First name: \")),str(input(\"Last name: \")), int(input(\"Student ID: \")))\n",
    "grades = input(\"Enter a list grades separated by space: \")\n",
    "grades = list(map(int, grades.split()))\n",
    "person1.calculate(grades)"
   ]
  }
 ],
 "metadata": {
  "kernelspec": {
   "display_name": "Python 3",
   "language": "python",
   "name": "python3"
  },
  "language_info": {
   "codemirror_mode": {
    "name": "ipython",
    "version": 3
   },
   "file_extension": ".py",
   "mimetype": "text/x-python",
   "name": "python",
   "nbconvert_exporter": "python",
   "pygments_lexer": "ipython3",
   "version": "3.8.3"
  }
 },
 "nbformat": 4,
 "nbformat_minor": 4
}
