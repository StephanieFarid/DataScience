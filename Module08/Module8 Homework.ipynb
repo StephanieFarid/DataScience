{
 "cells": [
  {
   "cell_type": "markdown",
   "metadata": {},
   "source": [
    "09.15.2020"
   ]
  },
  {
   "cell_type": "markdown",
   "metadata": {},
   "source": [
    "You are given two classes, Person and Student, where Person is the base class and Student is the derived class. Completed code for Person and a declaration for Student are provided for you in the editor. Observe that Student inherits all the properties of Person.\n",
    "\n",
    "Complete the Student class by writing the following:\n",
    "A Student class constructor, which has 4 parameters:\n",
    "- A string, firstName\n",
    "- A string, lastName\n",
    "- An integer, id\n",
    "An integer array (or vector) of test scores, scores\n",
    "\n",
    "A char calculate() method that calculates a Student object's average and returns the grade character representative of their calculated average:\n",
    "A | 90-100\n",
    "B | 80-89\n",
    "C | 70-79\n",
    "D | 60-69\n",
    "F | <60"
   ]
  },
  {
   "cell_type": "code",
   "execution_count": 29,
   "metadata": {},
   "outputs": [
    {
     "name": "stdout",
     "output_type": "stream",
     "text": [
      "First name: Steph\n",
      "Last name: Farid\n",
      "Student ID: 1234\n",
      "Enter a list grades separated by space: 90 100 95 90\n",
      "Steph Farid Student ID 1234, you got an A.\n"
     ]
    }
   ],
   "source": [
    "class Person:\n",
    "    \n",
    "    def __init__(self,first,last):\n",
    "        self.first = first\n",
    "        self.last = last\n",
    "        \n",
    "class Student(Person):\n",
    "    \n",
    "    def __init__(self, first, last, id):\n",
    "        self.id = int(id)\n",
    "        Person.__init__(self, first, last)\n",
    "        \n",
    "    def calculate(self,list):\n",
    "        grades = 0\n",
    "        total = len(list)\n",
    "        \n",
    "        for i in list:\n",
    "            grades = grades + i\n",
    "            \n",
    "        grade = grades/total\n",
    "        \n",
    "        if grade >= 90 and grade <= 100:\n",
    "            print(self.first + \" \" + self.last + \" \" + \"Student ID \" + str(self.id) + \", you got an A.\")\n",
    "        elif grade >= 80 and grade <= 89:\n",
    "            print(self.first + \" \" + self.last + \" \" + \"Student ID \" + str(self.id) + \", you got a B.\")\n",
    "        elif grade >= 70 and grade <= 79:\n",
    "            print(self.first + \" \" + self.last + \" \" + \"Student ID \" + str(self.id) + \", you got a C.\")\n",
    "        elif grade >= 60 and grade <= 69:\n",
    "            print(self.first + \" \" + self.last + \" \" + \"Student ID \" + str(self.id) + \", you got a D.\")\n",
    "        elif grade < 60:\n",
    "            print(self.first + \" \" + self.last + \" \" + \"Student ID \" + str(self.id) + \", you got an F.\")\n",
    "\n",
    "person1 = Student(str(input(\"First name: \")),str(input(\"Last name: \")), int(input(\"Student ID: \")))\n",
    "grades = input(\"Enter a list grades separated by space: \")\n",
    "grades = list(map(int, grades.split()))\n",
    "person1.calculate(grades)"
   ]
  }
 ],
 "metadata": {
  "kernelspec": {
   "display_name": "Python 3",
   "language": "python",
   "name": "python3"
  },
  "language_info": {
   "codemirror_mode": {
    "name": "ipython",
    "version": 3
   },
   "file_extension": ".py",
   "mimetype": "text/x-python",
   "name": "python",
   "nbconvert_exporter": "python",
   "pygments_lexer": "ipython3",
   "version": "3.8.3"
  }
 },
 "nbformat": 4,
 "nbformat_minor": 4
}
